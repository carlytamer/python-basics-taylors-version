{
 "cells": [
  {
   "cell_type": "code",
   "execution_count": 154,
   "metadata": {},
   "outputs": [],
   "source": [
    "import pandas as pd\n",
    "import numpy as np\n",
    "import matplotlib.pyplot as plt"
   ]
  },
  {
   "cell_type": "code",
   "execution_count": 155,
   "metadata": {},
   "outputs": [
    {
     "data": {
      "text/html": [
       "<div>\n",
       "<style scoped>\n",
       "    .dataframe tbody tr th:only-of-type {\n",
       "        vertical-align: middle;\n",
       "    }\n",
       "\n",
       "    .dataframe tbody tr th {\n",
       "        vertical-align: top;\n",
       "    }\n",
       "\n",
       "    .dataframe thead th {\n",
       "        text-align: right;\n",
       "    }\n",
       "</style>\n",
       "<table border=\"1\" class=\"dataframe\">\n",
       "  <thead>\n",
       "    <tr style=\"text-align: right;\">\n",
       "      <th></th>\n",
       "      <th>Unnamed: 0</th>\n",
       "      <th>name</th>\n",
       "      <th>album</th>\n",
       "      <th>release_date</th>\n",
       "      <th>track_number</th>\n",
       "      <th>id</th>\n",
       "      <th>uri</th>\n",
       "      <th>acousticness</th>\n",
       "      <th>danceability</th>\n",
       "      <th>energy</th>\n",
       "      <th>instrumentalness</th>\n",
       "      <th>liveness</th>\n",
       "      <th>loudness</th>\n",
       "      <th>speechiness</th>\n",
       "      <th>tempo</th>\n",
       "      <th>valence</th>\n",
       "      <th>popularity</th>\n",
       "      <th>duration_ms</th>\n",
       "    </tr>\n",
       "  </thead>\n",
       "  <tbody>\n",
       "    <tr>\n",
       "      <th>0</th>\n",
       "      <td>0</td>\n",
       "      <td>Lavender Haze</td>\n",
       "      <td>Midnights (3am Edition)</td>\n",
       "      <td>2022-10-22</td>\n",
       "      <td>1</td>\n",
       "      <td>4g2c7NoTWAOSYDy44l9nub</td>\n",
       "      <td>spotify:track:4g2c7NoTWAOSYDy44l9nub</td>\n",
       "      <td>0.2040</td>\n",
       "      <td>0.735</td>\n",
       "      <td>0.444</td>\n",
       "      <td>0.001200</td>\n",
       "      <td>0.1700</td>\n",
       "      <td>-10.519</td>\n",
       "      <td>0.0684</td>\n",
       "      <td>97.038</td>\n",
       "      <td>0.0984</td>\n",
       "      <td>77</td>\n",
       "      <td>202395</td>\n",
       "    </tr>\n",
       "    <tr>\n",
       "      <th>1</th>\n",
       "      <td>1</td>\n",
       "      <td>Maroon</td>\n",
       "      <td>Midnights (3am Edition)</td>\n",
       "      <td>2022-10-22</td>\n",
       "      <td>2</td>\n",
       "      <td>199E1RRrVmVTQqBXih5qRC</td>\n",
       "      <td>spotify:track:199E1RRrVmVTQqBXih5qRC</td>\n",
       "      <td>0.0593</td>\n",
       "      <td>0.658</td>\n",
       "      <td>0.378</td>\n",
       "      <td>0.000000</td>\n",
       "      <td>0.0976</td>\n",
       "      <td>-8.300</td>\n",
       "      <td>0.0379</td>\n",
       "      <td>108.034</td>\n",
       "      <td>0.0382</td>\n",
       "      <td>76</td>\n",
       "      <td>218270</td>\n",
       "    </tr>\n",
       "    <tr>\n",
       "      <th>2</th>\n",
       "      <td>2</td>\n",
       "      <td>Anti-Hero</td>\n",
       "      <td>Midnights (3am Edition)</td>\n",
       "      <td>2022-10-22</td>\n",
       "      <td>3</td>\n",
       "      <td>02Zkkf2zMkwRGQjZ7T4p8f</td>\n",
       "      <td>spotify:track:02Zkkf2zMkwRGQjZ7T4p8f</td>\n",
       "      <td>0.1330</td>\n",
       "      <td>0.638</td>\n",
       "      <td>0.634</td>\n",
       "      <td>0.000001</td>\n",
       "      <td>0.1520</td>\n",
       "      <td>-6.582</td>\n",
       "      <td>0.0457</td>\n",
       "      <td>96.953</td>\n",
       "      <td>0.5190</td>\n",
       "      <td>77</td>\n",
       "      <td>200690</td>\n",
       "    </tr>\n",
       "    <tr>\n",
       "      <th>3</th>\n",
       "      <td>3</td>\n",
       "      <td>Snow On The Beach (feat. Lana Del Rey)</td>\n",
       "      <td>Midnights (3am Edition)</td>\n",
       "      <td>2022-10-22</td>\n",
       "      <td>4</td>\n",
       "      <td>6ADDIJxxqzM9LMpm78yzQG</td>\n",
       "      <td>spotify:track:6ADDIJxxqzM9LMpm78yzQG</td>\n",
       "      <td>0.7350</td>\n",
       "      <td>0.659</td>\n",
       "      <td>0.323</td>\n",
       "      <td>0.003210</td>\n",
       "      <td>0.1160</td>\n",
       "      <td>-13.425</td>\n",
       "      <td>0.0436</td>\n",
       "      <td>110.007</td>\n",
       "      <td>0.1540</td>\n",
       "      <td>74</td>\n",
       "      <td>256124</td>\n",
       "    </tr>\n",
       "    <tr>\n",
       "      <th>4</th>\n",
       "      <td>4</td>\n",
       "      <td>You're On Your Own, Kid</td>\n",
       "      <td>Midnights (3am Edition)</td>\n",
       "      <td>2022-10-22</td>\n",
       "      <td>5</td>\n",
       "      <td>7gVWKBcfIW93YxNBi3ApIE</td>\n",
       "      <td>spotify:track:7gVWKBcfIW93YxNBi3ApIE</td>\n",
       "      <td>0.4160</td>\n",
       "      <td>0.694</td>\n",
       "      <td>0.380</td>\n",
       "      <td>0.000008</td>\n",
       "      <td>0.1260</td>\n",
       "      <td>-10.307</td>\n",
       "      <td>0.0614</td>\n",
       "      <td>120.044</td>\n",
       "      <td>0.3760</td>\n",
       "      <td>76</td>\n",
       "      <td>194206</td>\n",
       "    </tr>\n",
       "  </tbody>\n",
       "</table>\n",
       "</div>"
      ],
      "text/plain": [
       "   Unnamed: 0                                    name  \\\n",
       "0           0                           Lavender Haze   \n",
       "1           1                                  Maroon   \n",
       "2           2                               Anti-Hero   \n",
       "3           3  Snow On The Beach (feat. Lana Del Rey)   \n",
       "4           4                 You're On Your Own, Kid   \n",
       "\n",
       "                     album release_date  track_number                      id  \\\n",
       "0  Midnights (3am Edition)   2022-10-22             1  4g2c7NoTWAOSYDy44l9nub   \n",
       "1  Midnights (3am Edition)   2022-10-22             2  199E1RRrVmVTQqBXih5qRC   \n",
       "2  Midnights (3am Edition)   2022-10-22             3  02Zkkf2zMkwRGQjZ7T4p8f   \n",
       "3  Midnights (3am Edition)   2022-10-22             4  6ADDIJxxqzM9LMpm78yzQG   \n",
       "4  Midnights (3am Edition)   2022-10-22             5  7gVWKBcfIW93YxNBi3ApIE   \n",
       "\n",
       "                                    uri  acousticness  danceability  energy  \\\n",
       "0  spotify:track:4g2c7NoTWAOSYDy44l9nub        0.2040         0.735   0.444   \n",
       "1  spotify:track:199E1RRrVmVTQqBXih5qRC        0.0593         0.658   0.378   \n",
       "2  spotify:track:02Zkkf2zMkwRGQjZ7T4p8f        0.1330         0.638   0.634   \n",
       "3  spotify:track:6ADDIJxxqzM9LMpm78yzQG        0.7350         0.659   0.323   \n",
       "4  spotify:track:7gVWKBcfIW93YxNBi3ApIE        0.4160         0.694   0.380   \n",
       "\n",
       "   instrumentalness  liveness  loudness  speechiness    tempo  valence  \\\n",
       "0          0.001200    0.1700   -10.519       0.0684   97.038   0.0984   \n",
       "1          0.000000    0.0976    -8.300       0.0379  108.034   0.0382   \n",
       "2          0.000001    0.1520    -6.582       0.0457   96.953   0.5190   \n",
       "3          0.003210    0.1160   -13.425       0.0436  110.007   0.1540   \n",
       "4          0.000008    0.1260   -10.307       0.0614  120.044   0.3760   \n",
       "\n",
       "   popularity  duration_ms  \n",
       "0          77       202395  \n",
       "1          76       218270  \n",
       "2          77       200690  \n",
       "3          74       256124  \n",
       "4          76       194206  "
      ]
     },
     "execution_count": 155,
     "metadata": {},
     "output_type": "execute_result"
    }
   ],
   "source": [
    "#Calling on csv to create a data frame\n",
    "tsdata = pd.read_csv('taylor_swift_spotify.csv')\n",
    "tsdata.head()"
   ]
  },
  {
   "cell_type": "code",
   "execution_count": 156,
   "metadata": {},
   "outputs": [
    {
     "name": "stdout",
     "output_type": "stream",
     "text": [
      "['Midnights (3am Edition)' 'Midnights' \"Red (Taylor's Version)\"\n",
      " \"Fearless (Taylor's Version)\" 'evermore (deluxe version)' 'evermore'\n",
      " 'folklore: the long pond studio sessions (from the Disney+ special) [deluxe edition]'\n",
      " 'folklore (deluxe version)' 'folklore' 'Lover'\n",
      " 'Taylor Swift Karaoke: reputation' 'reputation'\n",
      " 'reputation (Big Machine Radio Release Special)'\n",
      " 'reputation Stadium Tour Surprise Song Playlist'\n",
      " 'Taylor Swift Karaoke: 1989 (Deluxe)' '1989'\n",
      " '1989 (Big Machine Radio Release Special)'\n",
      " 'Taylor Swift Karaoke: 1989 (Deluxe Edition)'\n",
      " 'Taylor Swift Karaoke: 1989' '1989 (Deluxe Edition)' '1989 (Deluxe)'\n",
      " 'Red' 'Red (Deluxe Edition)' 'Red (Big Machine Radio Release Special)'\n",
      " 'Red (Karaoke Version)' 'Taylor Swift Karaoke: Red'\n",
      " 'Speak Now (Japanese Version)' 'Speak Now World Tour Live' 'Speak Now'\n",
      " 'Speak Now (Big Machine Radio Release Special)'\n",
      " 'Speak Now (Karaoke Version)' 'Taylor Swift Karaoke: Speak Now'\n",
      " 'Speak Now (Deluxe Edition)' 'Speak Now (US Version)'\n",
      " 'Speak Now (Deluxe Package)' 'Fearless'\n",
      " 'Fearless (International Version)'\n",
      " 'Fearless (Big Machine Radio Release Special)'\n",
      " 'Fearless (Karaoke Version)' 'Fearless Karaoke'\n",
      " 'Fearless (Platinum Edition)' 'Fearless Platinum Edition'\n",
      " 'Live From Clear Channel Stripped 2008' 'Taylor Swift'\n",
      " 'Taylor Swift (Big Machine Radio Release Special)'\n",
      " 'Taylor Swift (Karaoke Version)' 'Taylor Swift Karaoke']\n"
     ]
    }
   ],
   "source": [
    "#Printing all album names to identify excess or repeated albums\n",
    "print(tsdata['album'].unique())"
   ]
  },
  {
   "cell_type": "code",
   "execution_count": 157,
   "metadata": {},
   "outputs": [
    {
     "name": "stdout",
     "output_type": "stream",
     "text": [
      "['Midnights (3am Edition)' \"Red (Taylor's Version)\"\n",
      " \"Fearless (Taylor's Version)\" 'evermore' 'folklore' 'Lover' 'reputation'\n",
      " '1989' 'Speak Now' 'Taylor Swift']\n"
     ]
    }
   ],
   "source": [
    "#Data cleaning, filtering out excess albums\n",
    "filteredalbums = ['Midnights (3am Edition)',\"Red (Taylor's Version)\",\"Fearless (Taylor's Version)\",'evermore','folklore','Lover','reputation','1989','Speak Now','Taylor Swift']\n",
    "ts=tsdata[tsdata['album'].isin(filteredalbums)]\n",
    "print(ts['album'].unique())"
   ]
  },
  {
   "cell_type": "code",
   "execution_count": 171,
   "metadata": {},
   "outputs": [],
   "source": [
    "#Create dictionary to store average popularity for each album\n",
    "albumpop = {}\n",
    "\n",
    "#Find average popularity for each album\n",
    "for album in filteredalbums:\n",
    "    albumdata=ts[ts['album']==(album)] #Create a df to sort by album\n",
    "    avgpop = albumdata['popularity'].mean() #Calculate avg pop of each album\n",
    "    albumpop[album]=avgpop #Fill the dictionary as album:avgpop"
   ]
  },
  {
   "cell_type": "code",
   "execution_count": 200,
   "metadata": {},
   "outputs": [
    {
     "data": {
      "text/plain": [
       "Text(0, 0.5, 'Popularity')"
      ]
     },
     "execution_count": 200,
     "metadata": {},
     "output_type": "execute_result"
    },
    {
     "data": {
      "image/png": "[encoded data removed]",
      "text/plain": [
       "<Figure size 640x480 with 1 Axes>"
      ]
     },
     "metadata": {},
     "output_type": "display_data"
    }
   ],
   "source": [
    "colors=['darkblue', 'darkred','goldenrod','saddlebrown','gray','lightpink','black','lightblue','purple','lightgreen']\n",
    "#df= #Make a data frame to store color, avgpop, album, etc.\n",
    "plt.bar(albumpop.keys(),albumpop.values(),color = colors) #Make bar chart where x=dictionary keys, y=dictionary values\n",
    "plt.xlabel('Album')\n",
    "plt.ylabel('Popularity')"
   ]
  }
 ],
 "metadata": {
  "kernelspec": {
   "display_name": "Python 3",
   "language": "python",
   "name": "python3"
  },
  "language_info": {
   "codemirror_mode": {
    "name": "ipython",
    "version": 3
   },
   "file_extension": ".py",
   "mimetype": "text/x-python",
   "name": "python",
   "nbconvert_exporter": "python",
   "pygments_lexer": "ipython3",
   "version": "3.11.3"
  },
  "orig_nbformat": 4
 },
 "nbformat": 4,
 "nbformat_minor": 2
}
